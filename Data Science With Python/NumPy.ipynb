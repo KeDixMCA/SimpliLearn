{
 "cells": [
  {
   "cell_type": "code",
   "execution_count": 11,
   "id": "4d4ef8a6",
   "metadata": {},
   "outputs": [],
   "source": [
    "#Import NumPy\n",
    "import numpy as np"
   ]
  },
  {
   "cell_type": "code",
   "execution_count": 12,
   "id": "952e8270",
   "metadata": {},
   "outputs": [],
   "source": [
    "#first numpy arrary\n",
    "first_numpy_array = np.array([1,2,3,4,5,6])"
   ]
  },
  {
   "cell_type": "code",
   "execution_count": 13,
   "id": "211b281e",
   "metadata": {},
   "outputs": [
    {
     "name": "stdout",
     "output_type": "stream",
     "text": [
      "[1 2 3 4 5 6]\n"
     ]
    }
   ],
   "source": [
    "#print first array\n",
    "print (first_numpy_array)"
   ]
  },
  {
   "cell_type": "code",
   "execution_count": 14,
   "id": "f59d2afe",
   "metadata": {},
   "outputs": [
    {
     "data": {
      "text/plain": [
       "array([[0., 0., 0.],\n",
       "       [0., 0., 0.],\n",
       "       [0., 0., 0.]])"
      ]
     },
     "execution_count": 14,
     "metadata": {},
     "output_type": "execute_result"
    }
   ],
   "source": [
    "#array with zeros\n",
    "array_with_zero = np.zeros((3,3))\n",
    "array_with_zero"
   ]
  },
  {
   "cell_type": "code",
   "execution_count": 15,
   "id": "4bcd8b23",
   "metadata": {},
   "outputs": [
    {
     "data": {
      "text/plain": [
       "array([[1., 1., 1.],\n",
       "       [1., 1., 1.],\n",
       "       [1., 1., 1.]])"
      ]
     },
     "execution_count": 15,
     "metadata": {},
     "output_type": "execute_result"
    }
   ],
   "source": [
    "#array with ones\n",
    "array_with_ones = np.ones((3,3))\n",
    "array_with_ones"
   ]
  },
  {
   "cell_type": "code",
   "execution_count": 16,
   "id": "07a13c0e",
   "metadata": {},
   "outputs": [
    {
     "data": {
      "text/plain": [
       "array([[8.09273937e+305, 4.99425854e-307],\n",
       "       [1.33360382e+241, 4.26139195e-310]])"
      ]
     },
     "execution_count": 16,
     "metadata": {},
     "output_type": "execute_result"
    }
   ],
   "source": [
    "#array with empty\n",
    "Array_with_empty = np.empty((2,2))\n",
    "Array_with_empty"
   ]
  },
  {
   "cell_type": "code",
   "execution_count": 19,
   "id": "634d7434",
   "metadata": {},
   "outputs": [
    {
     "name": "stdout",
     "output_type": "stream",
     "text": [
      "[ 0  1  2  3  4  5  6  7  8  9 10 11]\n"
     ]
    }
   ],
   "source": [
    "#np array with arrange method\n",
    "np_arange = np.arange(12)\n",
    "\n",
    "#print arrange\n",
    "print(np_arange)"
   ]
  },
  {
   "cell_type": "code",
   "execution_count": 24,
   "id": "cd069b98",
   "metadata": {},
   "outputs": [
    {
     "data": {
      "text/plain": [
       "array([[ 0,  1,  2],\n",
       "       [ 3,  4,  5],\n",
       "       [ 6,  7,  8],\n",
       "       [ 9, 10, 11]])"
      ]
     },
     "execution_count": 24,
     "metadata": {},
     "output_type": "execute_result"
    }
   ],
   "source": [
    "#reshape method to create or change array\n",
    "np_reshape = np_arange.reshape(6,2)\n",
    "np_reshape\n",
    "\n",
    "np_reshape = np_arange.reshape(4,3)\n",
    "np_reshape"
   ]
  },
  {
   "cell_type": "code",
   "execution_count": 40,
   "id": "dbcd51ee",
   "metadata": {},
   "outputs": [],
   "source": [
    "#Line space for equal space data\n",
    "np_linspace = np.linspace(1,6,5)"
   ]
  },
  {
   "cell_type": "code",
   "execution_count": 41,
   "id": "8864ee57",
   "metadata": {},
   "outputs": [
    {
     "name": "stdout",
     "output_type": "stream",
     "text": [
      "[1.   2.25 3.5  4.75 6.  ]\n"
     ]
    }
   ],
   "source": [
    "#Print linspace array\n",
    "print(np_linspace)"
   ]
  },
  {
   "cell_type": "code",
   "execution_count": 42,
   "id": "99337855",
   "metadata": {},
   "outputs": [
    {
     "name": "stdout",
     "output_type": "stream",
     "text": [
      "[ 0  1  2  3  4  5  6  7  8  9 10 11 12 13 14]\n"
     ]
    }
   ],
   "source": [
    "#One dimentional array\n",
    "one_Darry = np.arange(15)\n",
    "\n",
    "#Print oned array\n",
    "print (one_Darry)"
   ]
  },
  {
   "cell_type": "code",
   "execution_count": 43,
   "id": "1bbd2d29",
   "metadata": {},
   "outputs": [
    {
     "data": {
      "text/plain": [
       "array([[ 0,  1,  2,  3,  4],\n",
       "       [ 5,  6,  7,  8,  9],\n",
       "       [10, 11, 12, 13, 14]])"
      ]
     },
     "execution_count": 43,
     "metadata": {},
     "output_type": "execute_result"
    }
   ],
   "source": [
    "#two D array\n",
    "TwoD_array = one_Darry.reshape(3,5)\n",
    "\n",
    "#print 2d array\n",
    "TwoD_array"
   ]
  },
  {
   "cell_type": "code",
   "execution_count": 44,
   "id": "67225e9d",
   "metadata": {},
   "outputs": [
    {
     "data": {
      "text/plain": [
       "array([[[ 0,  1,  2],\n",
       "        [ 3,  4,  5],\n",
       "        [ 6,  7,  8]],\n",
       "\n",
       "       [[ 9, 10, 11],\n",
       "        [12, 13, 14],\n",
       "        [15, 16, 17]],\n",
       "\n",
       "       [[18, 19, 20],\n",
       "        [21, 22, 23],\n",
       "        [24, 25, 26]]])"
      ]
     },
     "execution_count": 44,
     "metadata": {},
     "output_type": "execute_result"
    }
   ],
   "source": [
    "#ThreeD array\n",
    "ThreeD_array = np.arange(27).reshape(3,3,3)\n",
    "\n",
    "#Print ThreeD array\n",
    "ThreeD_array"
   ]
  },
  {
   "cell_type": "code",
   "execution_count": null,
   "id": "026ec6b6",
   "metadata": {},
   "outputs": [],
   "source": []
  }
 ],
 "metadata": {
  "kernelspec": {
   "display_name": "Python 3 (ipykernel)",
   "language": "python",
   "name": "python3"
  },
  "language_info": {
   "codemirror_mode": {
    "name": "ipython",
    "version": 3
   },
   "file_extension": ".py",
   "mimetype": "text/x-python",
   "name": "python",
   "nbconvert_exporter": "python",
   "pygments_lexer": "ipython3",
   "version": "3.9.7"
  }
 },
 "nbformat": 4,
 "nbformat_minor": 5
}
